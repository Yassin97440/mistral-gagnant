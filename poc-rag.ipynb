{
 "cells": [
  {
   "cell_type": "code",
   "execution_count": 1,
   "metadata": {},
   "outputs": [],
   "source": [
    "from mistralai import Mistral\n",
    "import requests\n",
    "import numpy as np\n",
    "import faiss\n",
    "import os\n",
    "from getpass import getpass\n",
    "\n",
    "api_key= getpass(\"Type your API Key\")\n",
    "client = Mistral(api_key=api_key)"
   ]
  },
  {
   "cell_type": "markdown",
   "metadata": {},
   "source": [
    "mise en place de l'API notion en cours test poussé"
   ]
  },
  {
   "cell_type": "code",
   "execution_count": 2,
   "metadata": {},
   "outputs": [],
   "source": [
    "my_context=\"\"\" \n",
    "{\n",
    "  \"name\": \"Yassin Abdulla\",\n",
    "  \"shortDesciption\": \"Développeur Full Stack\",\n",
    "  \"longDescription1\": \" Salut, moi c'est Yassin, j'ai 24 ans et je suis un développeur sympa 😄. J'ai eu la chance de grandir dans l'océan indien, majoritairement à l'île de la réunion. Avant de venir sur le continent pour continuer mes études post bac et pour découvrir le monde.\",\n",
    "  \"longDescription2\": \"Cela fait maintenant 4 ans que je suis développeur dans le monde du travail. Dont une année en alternance. Avant cela, j'ai suivi un cursus orienté éléctronique et IoT. J'ai pu y faire beaucoup d'éléctronique (et beaucoup d'équation du coup mdr), et également du développemnt en C++ avec arduino principalement. Mais aussi quelques notion en IHM (interface homme machine) dont des principalement des pages HTML, CSS, et JS. A la fin de mon BTS, j'avais un gros manque de connaissances et de compétences en ce qui concerne le développement d'IHM. J'ai voulu développer mes compétences en développement d'intérface graphique et web afin d'avoir un \\\"spectre\\\" de compétences plus large. Ce qui dans l'idée m'aurait permis d'avoir les compétences nécessaires pour concevoir et développer un projet de A à Z. Qu'il soit purement logiciel ou bien en intégrant des systèmes embarqués.\",\n",
    "  \"longDescription3\": \"Mais j'avoue que j'ai beaucoup trop kiffé le développement logiciel et web, et j'ai du coup mis de côté l'éléctronique ces 3 dernières années. C'est que en dévouvrant le monde du développement logiciel et web, je me suis rapidement rendu compte de l'immensité technologique de ce monde, et également cette diversité technique. Ce qui a beacoup attiré mon attention. Plus que l'éléctronique sur le moment. Et pendant ces 4 dernières années j'ai du coup pu découvrir et approfondir des notions en développement d'application. De la conception et la mise en place d'une base de données, au développement d'interfaces graphiques, et énormément de développement du back-end pour la logique métier (logique métier assez complexe sur certains sujets à ma première expérience.\",\n",
    "  \"longDescription4\": \"Pendant ma première année en alternance je me suis rendu compte que les compétences techniques n'étaient que la moitié des compétences nécessaires pour être un bon développeur. J'ai au fur et à mesure pu découvrir ce qu'est l'analyse du besoin client et son importance. J'ai pu monter énormément monter en compétences en JAV (spring et eclipse RCP). L'année d'après mon alternance, j'a eu la chance de commencer à avoir des résponsabilités en gestion de projet et lead technique (java) de gestion d'équipe. \",\n",
    "  \"skills\": {\n",
    "    \"otherSkills\": [\n",
    "      \"Gestion de projet\",\n",
    "      \"Lead Dev Java \",\n",
    "      \"Gestion d'équipe\",\n",
    "      \"Analyse du besoin client\",\n",
    "      \"Développement d'interfaces graphiques\",\n",
    "      \"Développement back-end\",\n",
    "      \"Conception et mise en place de base de données\",\n",
    "      \"Communication avec les clients\",\n",
    "      \"Communication avec les équipes\"\n",
    "    ],\n",
    "    \"technos\": {\n",
    "      \"frontend\": [\n",
    "        \"Nuxt.js\",\n",
    "        \"RCP/SWT (java)\",\n",
    "        \"Tailwind CSS\",\n",
    "        \"Vuetify\",\n",
    "        \"PrimeVue\"\n",
    "      ],\n",
    "      \"backend\": [\n",
    "        \"Spring Boot\",\n",
    "        \"Java\",\n",
    "        \"Python\",\n",
    "        \"JavaScript\",\n",
    "        \"Node.js\",\n",
    "        \"Express\",\n",
    "        \"MySQL\"\n",
    "      ],\n",
    "      \"other\": [\n",
    "        \"Docker\",\n",
    "        \"TensorFlow\",\n",
    "        \"Numpy\"\n",
    "      ]\n",
    "    }\n",
    "  },\n",
    "  \"tools\": [\n",
    "    \"eclipse\",\n",
    "    \"Intellij IDEA\",\n",
    "    \"VSCode\",\n",
    "    \"Postman\",\n",
    "    \"Git\",\n",
    "    \"GitHub\",\n",
    "    \"GitLab\",\n",
    "    \"Jira\",\n",
    "    \"Confluence\",\n",
    "    \"Notion\",\n",
    "    \"Google Colab\",\n",
    "    \"Jupyter Notebook\",\n",
    "    \"WSL\"\n",
    "  ]\n",
    "}\n",
    "\"\"\""
   ]
  },
  {
   "cell_type": "code",
   "execution_count": 46,
   "metadata": {},
   "outputs": [
    {
     "data": {
      "text/plain": [
       "3584"
      ]
     },
     "execution_count": 46,
     "metadata": {},
     "output_type": "execute_result"
    }
   ],
   "source": [
    "text = my_context\n",
    "len(text)"
   ]
  },
  {
   "cell_type": "code",
   "execution_count": 47,
   "metadata": {},
   "outputs": [
    {
     "data": {
      "text/plain": [
       "2"
      ]
     },
     "execution_count": 47,
     "metadata": {},
     "output_type": "execute_result"
    }
   ],
   "source": [
    "chunk_size = 2048\n",
    "chunks = [text[i:i + chunk_size] for i in range(0, len(text), chunk_size)]\n",
    "len(chunks)"
   ]
  },
  {
   "cell_type": "code",
   "execution_count": 10,
   "metadata": {},
   "outputs": [
    {
     "name": "stderr",
     "output_type": "stream",
     "text": [
      "/home/yassin/miniconda3/envs/rag-env/lib/python3.10/site-packages/scipy/__init__.py:155: UserWarning: A NumPy version >=1.18.5 and <1.26.0 is required for this version of SciPy (detected version 1.26.4\n",
      "  warnings.warn(f\"A NumPy version >={np_minversion} and <{np_maxversion}\"\n"
     ]
    }
   ],
   "source": [
    "from sentence_transformers import SentenceTransformer\n",
    "# Initialiser le modèle\n",
    "model = SentenceTransformer('all-MiniLM-L6-v2')"
   ]
  },
  {
   "cell_type": "code",
   "execution_count": 25,
   "metadata": {},
   "outputs": [],
   "source": [
    "def get_text_embedding(input):\n",
    "    return model.encode(input)"
   ]
  },
  {
   "cell_type": "code",
   "execution_count": 49,
   "metadata": {},
   "outputs": [],
   "source": [
    "text_embeddings = np.array([get_text_embedding(chunk) for chunk in chunks])"
   ]
  },
  {
   "cell_type": "code",
   "execution_count": null,
   "metadata": {},
   "outputs": [],
   "source": [
    "print(text_embeddings)"
   ]
  },
  {
   "cell_type": "code",
   "execution_count": 50,
   "metadata": {},
   "outputs": [],
   "source": [
    "d = text_embeddings.shape[1]\n",
    "index = faiss.IndexFlatL2(d)\n",
    "index.add(text_embeddings)"
   ]
  },
  {
   "cell_type": "code",
   "execution_count": 51,
   "metadata": {},
   "outputs": [],
   "source": [
    "#le prompt passe aussi par l'embedding, avec le meme model (important)\n",
    "question = \"Qu'à fais Yassin après son BAC?\"\n",
    "question_embeddings = np.array([get_text_embedding(question)])\n",
    "\n"
   ]
  },
  {
   "cell_type": "markdown",
   "metadata": {},
   "source": [
    "#### Hypothetical Document Embeddings (HyDE)\n",
    "dans certains cas, le prompt utilisateur peut ne pas etre la requete la plus pertinente pour identifier le contexte pertinent. Il est donc intéréssant de générer un document hypothétique qui serait plus perttinent pour identifier le contexte pertinant à la question de l'utilisateur"
   ]
  },
  {
   "cell_type": "code",
   "execution_count": 53,
   "metadata": {},
   "outputs": [],
   "source": [
    "#param 1: question embedding, param 2: nombres de vecteur similaires à récupérer\n",
    "D, I = index.search(question_embeddings, k=2) # distance, index\n",
    "retrieved_chunk = [chunks[i] for i in I.tolist()[0]]"
   ]
  },
  {
   "cell_type": "markdown",
   "metadata": {},
   "source": [
    "à noter qu'il existe pleins d'autres stragétegie de recherces. search en tant une utilisation simple pour un cas simple\n"
   ]
  },
  {
   "cell_type": "code",
   "execution_count": 54,
   "metadata": {},
   "outputs": [],
   "source": [
    "prompt = f\"\"\"\n",
    "Context information is below.\n",
    "---------------------\n",
    "{retrieved_chunk}\n",
    "---------------------\n",
    "Given the context information and not prior knowledge, answer the query.\n",
    "Query: {question}\n",
    "Answer:\n",
    "\"\"\""
   ]
  },
  {
   "cell_type": "code",
   "execution_count": 55,
   "metadata": {},
   "outputs": [],
   "source": [
    "def run_mistral(user_message, model=\"mistral-large-latest\"):\n",
    "    messages = [\n",
    "        {\n",
    "            \"role\": \"user\", \"content\": user_message\n",
    "        }\n",
    "    ]\n",
    "    chat_response = client.chat.complete(\n",
    "        model=model,\n",
    "        messages=messages\n",
    "    )\n",
    "    return (chat_response.choices[0].message.content)"
   ]
  },
  {
   "cell_type": "code",
   "execution_count": 56,
   "metadata": {},
   "outputs": [
    {
     "data": {
      "text/plain": [
       "\"Après son BAC, Yassin a suivi un cursus orienté électronique et IoT. Il y a fait beaucoup d'électronique et de développement en C++ avec Arduino, ainsi que quelques notions en IHM (interface homme-machine) avec des pages HTML, CSS, et JS.\""
      ]
     },
     "execution_count": 56,
     "metadata": {},
     "output_type": "execute_result"
    }
   ],
   "source": [
    "run_mistral(prompt)"
   ]
  },
  {
   "cell_type": "code",
   "execution_count": null,
   "metadata": {},
   "outputs": [],
   "source": [
    "#pip install notion-client\n",
    "import os\n",
    "from notion_client import Client\n",
    "\n",
    "notion = Client(auth=os.environ[\"NOTION_TOKEN\"])"
   ]
  },
  {
   "cell_type": "markdown",
   "metadata": {},
   "source": [
    "# Essaie avec langChain\n",
    "maintenant avoir compris les différentes étapes pour mettre en place un RAG, il est temps de passer sur un framework solide pour optimiser tout ca"
   ]
  },
  {
   "cell_type": "code",
   "execution_count": 19,
   "metadata": {},
   "outputs": [],
   "source": [
    "from langchain_community.document_loaders import TextLoader\n",
    "from langchain_mistralai.chat_models import ChatMistralAI\n",
    "from langchain_community.vectorstores import FAISS\n",
    "from langchain.text_splitter import RecursiveCharacterTextSplitter\n",
    "from langchain.chains.combine_documents import create_stuff_documents_chain\n",
    "from langchain_core.prompts import ChatPromptTemplate\n",
    "from langchain.chains import create_retrieval_chain\n",
    "\n",
    "from langchain_core.documents import Document\n",
    "# Remplacement des embeddings Mistral par SentenceTransformer\n",
    "from langchain_community.embeddings import HuggingFaceEmbeddings\n"
   ]
  },
  {
   "cell_type": "code",
   "execution_count": 20,
   "metadata": {},
   "outputs": [],
   "source": [
    "# Load data\n",
    "# loader = TextLoader(\"data.json\")\n",
    "# docs = loader.load()\n",
    "\n",
    "#autre facon de faire en récupérrant ma variable my context\n",
    "doc = Document(page_content=my_context)\n"
   ]
  },
  {
   "cell_type": "code",
   "execution_count": 22,
   "metadata": {},
   "outputs": [],
   "source": [
    "# Split text into chunks \n",
    "text_splitter = RecursiveCharacterTextSplitter(\n",
    ")\n",
    "documents = text_splitter.split_documents([doc])"
   ]
  },
  {
   "cell_type": "code",
   "execution_count": 36,
   "metadata": {},
   "outputs": [
    {
     "data": {
      "text/plain": [
       "1"
      ]
     },
     "execution_count": 36,
     "metadata": {},
     "output_type": "execute_result"
    }
   ],
   "source": [
    "len(documents)"
   ]
  },
  {
   "cell_type": "code",
   "execution_count": 15,
   "metadata": {},
   "outputs": [
    {
     "name": "stderr",
     "output_type": "stream",
     "text": [
      "/tmp/ipykernel_104022/211966054.py:2: LangChainDeprecationWarning: The class `HuggingFaceEmbeddings` was deprecated in LangChain 0.2.2 and will be removed in 1.0. An updated version of the class exists in the :class:`~langchain-huggingface package and should be used instead. To use it run `pip install -U :class:`~langchain-huggingface` and import as `from :class:`~langchain_huggingface import HuggingFaceEmbeddings``.\n",
      "  embeddings = HuggingFaceEmbeddings(\n"
     ]
    }
   ],
   "source": [
    "# Définir le modèle d'embedding avec SentenceTransformer via HuggingFaceEmbeddings\n",
    "embeddings = HuggingFaceEmbeddings(\n",
    "    model_name=\"all-MiniLM-L6-v2\",  # Vous utilisez déjà ce modèle\n",
    "    model_kwargs={'device': 'cuda'},  # Vous pouvez spécifier 'cuda' si vous avez un GPU\n",
    "    encode_kwargs={'normalize_embeddings': True}  # Recommandé pour la recherche de similarité\n",
    ")\n"
   ]
  },
  {
   "cell_type": "code",
   "execution_count": 18,
   "metadata": {},
   "outputs": [],
   "source": [
    "# Create the vector store \n",
    "vector = FAISS.from_documents(documents, embeddings)\n",
    "# Define a retriever interface\n",
    "retriever = vector.as_retriever()"
   ]
  },
  {
   "cell_type": "code",
   "execution_count": 26,
   "metadata": {},
   "outputs": [],
   "source": [
    "from getpass import getpass\n",
    "\n",
    "api_key= getpass(\"Type your API Key\")\n",
    "# Define LLM\n",
    "model = ChatMistralAI(mistral_api_key=api_key)"
   ]
  },
  {
   "cell_type": "code",
   "execution_count": 24,
   "metadata": {},
   "outputs": [],
   "source": [
    "# Define prompt template\n",
    "prompt = ChatPromptTemplate.from_template(\"\"\"Answer the following question based only on the provided context:\n",
    "\n",
    "<context>\n",
    "{context}\n",
    "</context>\n",
    "\n",
    "Question: {input}\"\"\")"
   ]
  },
  {
   "cell_type": "code",
   "execution_count": 35,
   "metadata": {},
   "outputs": [
    {
     "name": "stdout",
     "output_type": "stream",
     "text": [
      "Yassin a une bonne maîtrise des technologies Java, notamment Spring Boot et Eclipse RCP/SWT pour le développement back-end et les interfaces graphiques. Il maîtrise également d'autres technologies pour le développement back-end telles que Python, JavaScript, Node.js, Express, et MySQL. Pour le développement front-end, il utilise Nuxt.js, Tailwind CSS, Vuetify, et PrimeVue. Il a également des compétences dans l'utilisation d'outils tels que Docker, TensorFlow, Numpy, Git, Jira, Confluence, et Notion, entre autres. Globalement, il a une bonne maîtrise des technologies de développement web et back-end.\n"
     ]
    }
   ],
   "source": [
    "# Create a retrieval chain to answer questions\n",
    "document_chain = create_stuff_documents_chain(model, prompt)\n",
    "retrieval_chain = create_retrieval_chain(retriever, document_chain)\n",
    "response = retrieval_chain.invoke({\"input\": \"En francais stp! Quelles technologies maitrise le plus Yassin? \"})\n",
    "print(response[\"answer\"])"
   ]
  }
 ],
 "metadata": {
  "kernelspec": {
   "display_name": "rag-env",
   "language": "python",
   "name": "python3"
  },
  "language_info": {
   "codemirror_mode": {
    "name": "ipython",
    "version": 3
   },
   "file_extension": ".py",
   "mimetype": "text/x-python",
   "name": "python",
   "nbconvert_exporter": "python",
   "pygments_lexer": "ipython3",
   "version": "3.10.16"
  }
 },
 "nbformat": 4,
 "nbformat_minor": 2
}
